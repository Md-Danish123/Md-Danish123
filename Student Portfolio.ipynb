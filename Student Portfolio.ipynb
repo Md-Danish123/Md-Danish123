{
 "cells": [
  {
   "cell_type": "markdown",
   "id": "846f1a9c",
   "metadata": {},
   "source": [
    "# project 1"
   ]
  },
  {
   "cell_type": "code",
   "execution_count": 4,
   "id": "9b5ad20f",
   "metadata": {},
   "outputs": [
    {
     "name": "stdout",
     "output_type": "stream",
     "text": [
      "\t students Details\n",
      "\n",
      " Name :Mohit gupta\n",
      "Current Standard : 12\n",
      "Division : A\n",
      "Roll number : 33\n",
      "Marks score in Mathematics : 90\n",
      "Marks score in Physics : 88\n",
      "Marks score in English: 95\n",
      "Thanks for Entering your Details\n"
     ]
    }
   ],
   "source": [
    "print(\"\\t students Details\")\n",
    "name= input(\"\\n Name :\")\n",
    "std= input(\"Current Standard : \")\n",
    "div= input(\"Division : \")\n",
    "roll= input(\"Roll number : \")\n",
    "math=int( input(\"Marks score in Mathematics : \"))\n",
    "phy=int(input(\"Marks score in Physics : \"))\n",
    "eng=int(input(\"Marks score in English: \"))\n",
    "print(\"Thanks for Entering your Details\")\n"
   ]
  },
  {
   "cell_type": "markdown",
   "id": "af812f76",
   "metadata": {},
   "source": [
    "# students Marksheet"
   ]
  },
  {
   "cell_type": "code",
   "execution_count": 7,
   "id": "d9230889",
   "metadata": {},
   "outputs": [
    {
     "name": "stdout",
     "output_type": "stream",
     "text": [
      "\n",
      "Student Details : \n",
      "******************\n",
      "\n",
      " Name of the Student :  Mohit gupta\n",
      "Standard :  12\n",
      "Division :  A\n",
      "Roll number :  33\n",
      "\n",
      "Statement of Marks : \n",
      "**********************\n",
      "\n",
      "Mathematics : 90 /100\n",
      "physics : 88 /100\n",
      "English :  95 /100\n",
      "\n",
      "Total Marks obtained : 273 /300\n",
      "percentage : 91.0 %\n",
      "\n",
      "Result : Passed\n",
      "\n",
      "Remark : \n",
      "***********\n",
      "\n",
      "Well Done!\n",
      "Aim for higher .\n"
     ]
    }
   ],
   "source": [
    "print(\"\\nStudent Details : \")\n",
    "print(\"*\"*18)\n",
    "print(\"\\n Name of the Student : \" ,name)\n",
    "print(\"Standard : \" ,std)\n",
    "print(\"Division : \" ,div)\n",
    "print(\"Roll number : \" ,roll )\n",
    "print(\"\\nStatement of Marks : \")\n",
    "print(\"*\"*22)\n",
    "print(\"\\nMathematics :\" ,math, \"/100\")\n",
    "print(\"physics :\",phy, \"/100\")\n",
    "print(\"English : \" ,eng, \"/100\")\n",
    "total = math+phy+eng\n",
    "print(\"\\nTotal Marks obtained :\",total,\"/300\")\n",
    "print(\"percentage :\" ,total/3,\"%\")\n",
    "print(\"\\nResult : Passed\")\n",
    "print(\"\\nRemark : \")\n",
    "print(\"*\"*11)\n",
    "print(\"\\nWell Done!\\nAim for higher .\")"
   ]
  },
  {
   "cell_type": "code",
   "execution_count": null,
   "id": "5dd8e338",
   "metadata": {},
   "outputs": [],
   "source": []
  }
 ],
 "metadata": {
  "kernelspec": {
   "display_name": "Python 3 (ipykernel)",
   "language": "python",
   "name": "python3"
  },
  "language_info": {
   "codemirror_mode": {
    "name": "ipython",
    "version": 3
   },
   "file_extension": ".py",
   "mimetype": "text/x-python",
   "name": "python",
   "nbconvert_exporter": "python",
   "pygments_lexer": "ipython3",
   "version": "3.9.7"
  }
 },
 "nbformat": 4,
 "nbformat_minor": 5
}
